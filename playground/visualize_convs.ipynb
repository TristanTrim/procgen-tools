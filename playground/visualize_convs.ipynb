{
 "cells": [
  {
   "attachments": {},
   "cell_type": "markdown",
   "metadata": {},
   "source": [
    "# Visualizing details of the goal misgeneralization nets\n",
    "Let's understand lots of details about [the goal misgeneralization paper](https://arxiv.org/abs/2105.14111). In particular, we'll be looking at the cheese-maze task from the goal misgeneralization task, for which cheese was spawned in the 5x5 top-right corner of the maze. \n",
    "\n",
    "Key conclusions:\n",
    "1. Convolutional layers limit speed of information propagation (_locality_). More precisely, ignoring the effect of `maxpool2D` layers, any portions of the state separated by `n` pixels take at least `n/2` convolutional layers to interact.\n",
    "2. In the maximal maze size of 64 x 64, there is at most **two** steps of computation involving information from e.g. opposite corners of the maze. "
   ]
  },
  {
   "cell_type": "code",
   "execution_count": 42,
   "metadata": {},
   "outputs": [],
   "source": [
    "# %% Don't have to restart kernel and reimport each time you modify a dependency\n",
    "%reload_ext autoreload\n",
    "%autoreload 2\n",
    "\n",
    "# %%\n",
    "# Imports\n",
    "from typing import List, Tuple, Dict, Union, Optional, Callable\n",
    "import re \n",
    "\n",
    "import numpy as np\n",
    "import pandas as pd\n",
    "import torch as t\n",
    "import plotly.express as px\n",
    "import plotly as py\n",
    "import plotly.graph_objects as go\n",
    "from tqdm import tqdm\n",
    "from einops import rearrange\n",
    "from IPython.display import Video, display, clear_output, IFrame\n",
    "from ipywidgets import *\n",
    "import itertools\n",
    "from moviepy.video.io.ImageSequenceClip import ImageSequenceClip\n",
    "import matplotlib.pyplot as plt\n",
    "\n",
    "import circrl.module_hook as cmh\n",
    "import procgen_tools.models as models\n",
    "from experiments.patch_utils import *\n",
    "\n",
    "from procgen import ProcgenGym3Env\n",
    "\n",
    "RAND_REGION = 5\n",
    "NUM_ACTIONS = 15\n",
    "try:\n",
    "    get_ipython()\n",
    "    in_jupyter = True\n",
    "except NameError:\n",
    "    in_jupyter = False\n",
    "path_prefix = '../' if in_jupyter else ''\n",
    "\n",
    "# %%\n",
    "# Load model\n",
    "model_path = path_prefix + f'trained_models/maze_I/model_rand_region_{RAND_REGION}.pth'\n",
    "policy = models.load_policy(model_path, NUM_ACTIONS, t.device('cpu'))\n",
    "hook = cmh.ModuleHook(policy)"
   ]
  },
  {
   "cell_type": "code",
   "execution_count": null,
   "metadata": {},
   "outputs": [],
   "source": [
    "# There's a bug in hiddenlayer atm\n",
    "# import hiddenlayer as hl\n",
    "# model = models.InterpretableImpalaModel(in_channels=3)\n",
    "# hl.build_graph(model, t.zeros((1,3, 64, 64), dtype=t.float32))\n",
    "\n",
    "from torchviz import make_dot\n",
    "model = models.InterpretableImpalaModel(in_channels=3)\n",
    "yhat = model(t.zeros((1,3, 64, 64), dtype=t.float32))\n",
    "dot = make_dot(yhat, params=dict(list(model.named_parameters()))).render('model_graph', format='png') \n",
    "\n",
    "dot = make_dot(yhat, params=dict(list(model.named_parameters())))\n",
    "# Load and imshow the png\n",
    "from IPython.display import Image\n",
    "display(Image('model_graph.png'))\n",
    "\n",
    "# Delete the files \n",
    "import os\n",
    "os.remove('model_graph.png')\n",
    "os.remove('model_graph')"
   ]
  },
  {
   "cell_type": "code",
   "execution_count": 43,
   "metadata": {},
   "outputs": [
    {
     "data": {
      "text/plain": [
       "<matplotlib.image.AxesImage at 0x7fd5192933d0>"
      ]
     },
     "execution_count": 43,
     "metadata": {},
     "output_type": "execute_result"
    },
    {
     "data": {
      "image/png": "[encoded data removed]",
      "text/plain": [
       "<Figure size 640x480 with 1 Axes>"
      ]
     },
     "metadata": {},
     "output_type": "display_data"
    }
   ],
   "source": [
    "def dummy_obs_pair(color: str, location: Tuple[int, int]=(32,32)):\n",
    "    \"\"\" Returns a mostly-black image containing a red/green/blue pixel in the center. Returns shape (2, 3, 64, 64). \"\"\"\n",
    "    \n",
    "    assert color in ['R', 'G', 'B'], f'Color must be one of R, G, B, not {color}'\n",
    "    assert len(location) == 2, 'Location must be a tuple of length 2'\n",
    "    assert all(0 <= col < 64 for col in location), 'Location must be in [0, 64)'\n",
    "\n",
    "    channel = {'R': 0, 'G': 1, 'B': 2}[color]\n",
    "    obs = np.zeros((2, 3, 64, 64), dtype=np.float32)\n",
    "    obs[0, channel, location[0], location[1]] = 1 # Have one pixel in the middle, in the given channel\n",
    "    return obs\n",
    "    \n",
    "# Let's load a dummy observation with only one nonzero value\n",
    "plt.imshow(dummy_obs_pair(\"G\")[0].transpose(1,2,0))"
   ]
  },
  {
   "cell_type": "code",
   "execution_count": 44,
   "metadata": {},
   "outputs": [
    {
     "name": "stdout",
     "output_type": "stream",
     "text": [
      "['embedder.block1.conv_in0', 'embedder.block1.conv_out', 'embedder.block1.maxpool_out', 'embedder.block1.res1.relu1_out', 'embedder.block1.res1.conv1_out', 'embedder.block1.res1.relu2_out', 'embedder.block1.res1.conv2_out', 'embedder.block1.res1.resadd_out', 'embedder.block1.res2.relu1_out', 'embedder.block1.res2.conv1_out', 'embedder.block1.res2.relu2_out', 'embedder.block1.res2.conv2_out', 'embedder.block1.res2.resadd_out', 'embedder.block2.conv_out', 'embedder.block2.maxpool_out', 'embedder.block2.res1.relu1_out', 'embedder.block2.res1.conv1_out', 'embedder.block2.res1.relu2_out', 'embedder.block2.res1.conv2_out', 'embedder.block2.res1.resadd_out', 'embedder.block2.res2.relu1_out', 'embedder.block2.res2.conv1_out', 'embedder.block2.res2.relu2_out', 'embedder.block2.res2.conv2_out', 'embedder.block2.res2.resadd_out', 'embedder.block3.conv_out', 'embedder.block3.maxpool_out', 'embedder.block3.res1.relu1_out', 'embedder.block3.res1.conv1_out', 'embedder.block3.res1.relu2_out', 'embedder.block3.res1.conv2_out', 'embedder.block3.res1.resadd_out', 'embedder.block3.res2.relu1_out', 'embedder.block3.res2.conv1_out', 'embedder.block3.res2.relu2_out', 'embedder.block3.res2.conv2_out', 'embedder.block3.res2.resadd_out', 'embedder.relu3_out', 'embedder.flatten_out', 'embedder.fc_out', 'embedder.relufc_out', 'fc_policy_out', 'fc_value_out']\n"
     ]
    },
    {
     "name": "stderr",
     "output_type": "stream",
     "text": [
      "/Users/pninagrietzer/opt/anaconda3/lib/python3.9/site-packages/circrl/module_hook.py:219: UserWarning:\n",
      "\n",
      "Function probe_with_input is deprecated due to\n",
      "        a confusing name and has been replaced with run_with_input.\n",
      "\n"
     ]
    }
   ],
   "source": [
    "# Get the available labels\n",
    "hook.probe_with_input(dummy_obs_pair('R'))\n",
    "labels = list(hook.values_by_label.keys())[:-1] # Skip the \"_out\" layer\n",
    "print(labels)"
   ]
  },
  {
   "cell_type": "code",
   "execution_count": 45,
   "metadata": {},
   "outputs": [],
   "source": [
    "# Let's visualize the activations at each layer using plotly, using an interactive interface that lets us slide the R/G/B pixel around\n",
    "import plotly.graph_objects as go\n",
    "from plotly.subplots import make_subplots\n",
    "import plotly.express as px\n",
    "\n",
    "def get_activations(label: str, obs: np.ndarray):\n",
    "    hook.probe_with_input(obs) # Run the model with the given obs\n",
    "    return hook.get_value_by_label(label) # Shape is (b, c, h, w) at conv layers, (b, activations) at linear layers\n",
    "\n",
    "def activation_diff(label: str, obs: np.ndarray):\n",
    "    assert obs.shape[0] == 2 # Must be a pair of observations\n",
    "    \n",
    "    activations = get_activations(label, obs)\n",
    "    return activations[0] - activations[1] # Subtract in order to cancel out bias terms which don't behave differently in the presence of the differing inputs \n",
    "\n",
    "def plot_activations(label: str, channel: int, activations: np.ndarray, fig: go.FigureWidget):\n",
    "    \"\"\" Plot the activations of a given channel at a given layer, given a single (non-batched) activation tensor. \"\"\"\n",
    "    if len(activations.shape) == 1: # Linear layer\n",
    "        # Unsqueeze the np.ndarray\n",
    "        activations = np.expand_dims(activations, axis=(0,1))\n",
    "        # If there's only a single channel, display a 1D Heatmap, with a single rowvalue and the activation indices as the col values TODO remove columns, display action labels\n",
    "        new_data = go.Heatmap(y=activations[channel], x=np.arange(activations.shape[2]))\n",
    "        if label == 'fc_policy_out':\n",
    "            # Transform each index into the corresponding action label, according to maze.py \n",
    "            new_data['x'] = [models.MAZE_ACTION_INDICES[i].title() for i in range(NUM_ACTIONS)] # TODO convert to human readable\n",
    "    else: \n",
    "        assert channel < activations.shape[0], \"Channel doesn't exist at this layer\"\n",
    "        new_data = go.Heatmap(z=activations[channel])\n",
    "    \n",
    "    fig.update_xaxes(side=\"top\") # Set the x ticks to the top\n",
    "    fig.update_yaxes(autorange=\"reversed\") # Reverse the row-axis autorange\n",
    "\n",
    "    # Update data\n",
    "    fig.update(data=[go.Heatmap(z=activations[channel])])\n",
    "\n",
    "    # Set the min and max to be the min and max of all channels at this label\n",
    "    bounds = np.abs(activations).max()\n",
    "    fig.update_traces(zmin=-1 * bounds, zmid=0, zmax=bounds)\n",
    "\n",
    "    # Change the colorscale to split red (negative) -- white (zero) -- blue (positive)\n",
    "    fig.update_traces(colorscale='RdBu')\n",
    "    \n",
    "    fig.update_layout(height=500, width=500, title_text=label)\n",
    "\n",
    "def make_interactive_plotter(plotter: Callable, activ_gen: Callable, coords_enabled: bool=False, **obs_kwargs):\n",
    "    \"\"\" Make an interactive plotter out of a plotter function. Pass in an observation-generating function which is given to the plotter.\"\"\"\n",
    "    channel_slider = IntSlider(min=0, max=127, step=1, value=0)\n",
    "    col_slider, row_slider = (IntSlider(min=0, max=62, step=1, value=32), IntSlider(min=0, max=63, step=1, value=32)) \n",
    "    label_slider = Dropdown(options=labels)\n",
    "\n",
    "    fig = go.FigureWidget()\n",
    "    display(fig)    \n",
    "\n",
    "    # Make a \"custom filename\" text box \n",
    "    filename = Text(value=\"\", placeholder=\"Custom filename\", disabled=False)\n",
    "    filename.layout.width = '150px'\n",
    "\n",
    "    def save_image(b): # Add a save button to save the image\n",
    "        basename = filename.value if filename.value != \"\" else f\"{label_slider.value}_{channel_slider.value}{f'_{col_slider.value}_{row_slider.value}' if coords_enabled else ''}\"\n",
    "        fig.write_image(f\"{path_prefix}playground/visualizations/{basename}.png\")\n",
    "        # Note that the image is saved\n",
    "        print(f\"Saved image to {path_prefix}playground/visualizations/{basename}.png\")\n",
    "        # Clear the filename box\n",
    "        filename.value = \"\"\n",
    "    button = Button(description=\"Save image\")\n",
    "    \n",
    "    @interact\n",
    "    def plot_activations_interactive(label=label_slider, channel=channel_slider, col=col_slider, row=row_slider):\n",
    "        shap = hook.get_value_by_label(label).shape\n",
    "        channel_slider.max = shap[1] - 1 if len(shap) > 2 else 0\n",
    "        channel = min(channel, channel_slider.max) # Catch inappropriate values\n",
    "\n",
    "        if not coords_enabled: # Delete the sliders\n",
    "            col_slider.close()\n",
    "            row_slider.close()\n",
    "\n",
    "        button.on_click(save_image)\n",
    "\n",
    "        plotter(label=label, channel=channel, activations=activ_gen(col, row, label, **obs_kwargs) if coords_enabled else activ_gen(label, **obs_kwargs), fig=fig)\n",
    "\n",
    "    # Put the button and filename box side by side\n",
    "    display(HBox([filename, button]))"
   ]
  },
  {
   "cell_type": "code",
   "execution_count": 114,
   "metadata": {},
   "outputs": [
    {
     "data": {
      "application/vnd.jupyter.widget-view+json": {
       "model_id": "de1a0a648f9d47e78cb3d81e4f9b4e83",
       "version_major": 2,
       "version_minor": 0
      },
      "text/plain": [
       "FigureWidget({\n",
       "    'data': [], 'layout': {'template': '...'}\n",
       "})"
      ]
     },
     "metadata": {},
     "output_type": "display_data"
    },
    {
     "data": {
      "application/vnd.jupyter.widget-view+json": {
       "model_id": "04aafbe9a2444d75bf9f30d6a1689154",
       "version_major": 2,
       "version_minor": 0
      },
      "text/plain": [
       "interactive(children=(Dropdown(description='label', options=('embedder.block1.conv_in0', 'embedder.block1.conv…"
      ]
     },
     "metadata": {},
     "output_type": "display_data"
    },
    {
     "data": {
      "application/vnd.jupyter.widget-view+json": {
       "model_id": "09ceeb6667564838954e2cce3232ca0f",
       "version_major": 2,
       "version_minor": 0
      },
      "text/plain": [
       "HBox(children=(Text(value='', layout=Layout(width='150px'), placeholder='Custom filename'), Button(description…"
      ]
     },
     "metadata": {},
     "output_type": "display_data"
    }
   ],
   "source": [
    "def activ_gen_px(col: int, row: int, label: str, color: str):\n",
    "    \"\"\" Get the activations for running a forward pass on a dummy observation pair, in the given color. \"\"\"\n",
    "    return activation_diff(label, dummy_obs_pair(color, (row, col)))\n",
    "\n",
    "make_interactive_plotter(plot_activations, activ_gen_px, coords_enabled=True, color=\"R\") "
   ]
  },
  {
   "attachments": {},
   "cell_type": "markdown",
   "metadata": {},
   "source": [
    "# 1: Locality\n",
    "Consider `n` convolutional layers (3x3 kernel, stride=1, padding=1) which each preserve the height col width of the previous feature maps. The above demonstrates that after these layers, information can only propagate `n` L1 pixels. The network itself is composed of # TODO "
   ]
  },
  {
   "cell_type": "code",
   "execution_count": 53,
   "metadata": {},
   "outputs": [
    {
     "name": "stderr",
     "output_type": "stream",
     "text": [
      "Clipping input data to the valid range for imshow with RGB data ([0..1] for floats or [0..255] for integers).\n"
     ]
    },
    {
     "name": "stdout",
     "output_type": "stream",
     "text": [
      "The difference between the two images is:\n"
     ]
    },
    {
     "data": {
      "text/plain": [
       "<matplotlib.image.AxesImage at 0x7fd49a624eb0>"
      ]
     },
     "execution_count": 53,
     "metadata": {},
     "output_type": "execute_result"
    },
    {
     "data": {
      "image/png": "[encoded data removed]",
      "text/plain": [
       "<Figure size 640x480 with 1 Axes>"
      ]
     },
     "metadata": {},
     "output_type": "display_data"
    }
   ],
   "source": [
    "# Load up a cheese/no-cheese maze pair \n",
    "from experiments.patch_utils import *\n",
    "\n",
    "seed = 0\n",
    "venv = get_cheese_venv_pair(seed=seed)\n",
    "obs = venv.reset()\n",
    "obs = np.array(obs, dtype=np.float32)\n",
    "\n",
    "# Show the diff of the RGB renders\n",
    "print(\"The difference between the two images is:\")\n",
    "plt.imshow(rearrange(obs[0]-obs[1], 'c h w -> h w c'))"
   ]
  },
  {
   "cell_type": "code",
   "execution_count": 55,
   "metadata": {},
   "outputs": [
    {
     "data": {
      "application/vnd.jupyter.widget-view+json": {
       "model_id": "67c11b0b299d4fe9a439216b2dcc7855",
       "version_major": 2,
       "version_minor": 0
      },
      "text/plain": [
       "interactive(children=(IntSlider(value=0, description='seed'), Output()), _dom_classes=('widget-interact',))"
      ]
     },
     "metadata": {},
     "output_type": "display_data"
    }
   ],
   "source": [
    "%reload_ext autoreload\n",
    "%autoreload 2\n",
    "\n",
    "# %%\n",
    "# Imports\n",
    "from typing import List, Tuple, Dict, Union, Optional, Callable\n",
    "\n",
    "import numpy as np\n",
    "import pandas as pd\n",
    "import torch as t\n",
    "import plotly.express as px\n",
    "import plotly as py\n",
    "import plotly.graph_objects as go\n",
    "from tqdm import tqdm\n",
    "from einops import rearrange\n",
    "from IPython.display import Video, display, clear_output\n",
    "from ipywidgets import Text, interact, IntSlider, fixed, FloatSlider, Dropdown\n",
    "import itertools\n",
    "from moviepy.video.io.ImageSequenceClip import ImageSequenceClip\n",
    "import matplotlib.pyplot as plt\n",
    "\n",
    "@interact \n",
    "def custom_values(seed=IntSlider(min=0, max=100, step=1, value=0)):\n",
    "    global v_env # TODO this seems to not play nicely if you change original seed? Other mazes are negligibly affected\n",
    "    v_env = get_custom_venvs(seed=seed)\n",
    "\n",
    "obs = v_env.reset()\n",
    "obs = np.array(obs, dtype=np.float32)\n",
    "\n"
   ]
  },
  {
   "cell_type": "code",
   "execution_count": null,
   "metadata": {},
   "outputs": [],
   "source": [
    "# Visualize the activations for this pair\n",
    "make_interactive_plotter(plot_activations, lambda label: activation_diff(label, obs))"
   ]
  },
  {
   "cell_type": "code",
   "execution_count": 117,
   "metadata": {},
   "outputs": [
    {
     "data": {
      "text/plain": [
       "<matplotlib.image.AxesImage at 0x7fc9ab6b69b0>"
      ]
     },
     "execution_count": 117,
     "metadata": {},
     "output_type": "execute_result"
    },
    {
     "data": {
      "image/png": "[encoded data removed]",
      "text/plain": [
       "<Figure size 640x480 with 1 Axes>"
      ]
     },
     "metadata": {},
     "output_type": "display_data"
    }
   ],
   "source": [
    "cheese_pixels = obs[0][(obs[0]-obs[1]) != 0] # Get the nonzero pixels\n",
    "cheese_pixels = [(cheese_pixels[i], cheese_pixels[i+1], cheese_pixels[i+2]) for i in range(0, len(cheese_pixels), 3)] # Split into (R,G,B) tuples\n",
    "\n",
    "def show_cheese_at(col: int, row: int):\n",
    "    \"\"\" Make an all-black image with cheese at the given location. \"\"\"\n",
    "    obs = np.zeros((3,64,64), dtype=np.float32)\n",
    "    obs[:, row, col] = cheese_pixels[0]\n",
    "    obs[:, row, col+1] = cheese_pixels[1]\n",
    "    return obs\n",
    "\n",
    "plt.imshow(rearrange(show_cheese_at(0,0), 'c h w -> h w c'))"
   ]
  },
  {
   "cell_type": "code",
   "execution_count": 6,
   "metadata": {},
   "outputs": [
    {
     "data": {
      "application/vnd.jupyter.widget-view+json": {
       "model_id": "a133b9242d374a70b2bb8c4ef81a515e",
       "version_major": 2,
       "version_minor": 0
      },
      "text/plain": [
       "interactive(children=(IntSlider(value=0, description='seed'), Output()), _dom_classes=('widget-interact',))"
      ]
     },
     "metadata": {},
     "output_type": "display_data"
    }
   ],
   "source": [
    "%reload_ext autoreload\n",
    "%autoreload 2\n",
    "\n",
    "# %%\n",
    "# Imports\n",
    "from typing import List, Tuple, Dict, Union, Optional, Callable\n",
    "\n",
    "import numpy as np\n",
    "import pandas as pd\n",
    "import torch as t\n",
    "import plotly.express as px\n",
    "import plotly as py\n",
    "import plotly.graph_objects as go\n",
    "from tqdm import tqdm\n",
    "from einops import rearrange\n",
    "from IPython.display import Video, display, clear_output\n",
    "from ipywidgets import Text, interact, IntSlider, fixed, FloatSlider, Dropdown\n",
    "import itertools\n",
    "from moviepy.video.io.ImageSequenceClip import ImageSequenceClip\n",
    "import matplotlib.pyplot as plt\n",
    "from procgen_tools import maze\n",
    "\n",
    "def get_custom_venv_pair(seed: int, num_envs=2):\n",
    "    \"\"\" Allow the user to edit num_envs levels from a seed. Return a venv containing both environments. \"\"\"\n",
    "    venv = maze.create_venv(num=num_envs, start_level=seed, num_levels=1)\n",
    "    return venv, maze._vbox_hr(maze.venv_editor(venv, check_on_dist=False))\n",
    "\n",
    "@interact \n",
    "def custom_values(seed=IntSlider(min=0, max=100, step=1, value=1)):\n",
    "    global v_env # TODO this seems to not play nicely if you change original seed? Other mazes are negligibly affected\n",
    "    v_env, editor = get_custom_venv_pair(seed=seed)\n",
    "    "
   ]
  },
  {
   "cell_type": "code",
   "execution_count": 56,
   "metadata": {},
   "outputs": [
    {
     "name": "stdout",
     "output_type": "stream",
     "text": [
      "tensor(0.)\n",
      "tensor(0.)\n",
      "tensor(0.)\n",
      "tensor(0.)\n",
      "tensor(0.)\n",
      "tensor(0.)\n",
      "tensor(0.)\n",
      "tensor(0.)\n",
      "tensor(0.)\n",
      "tensor(0.)\n",
      "tensor(0.)\n",
      "tensor(0.)\n",
      "tensor(0.)\n",
      "tensor(0.)\n",
      "tensor(0.)\n",
      "tensor(0.)\n",
      "tensor(0.)\n",
      "tensor(0.)\n",
      "tensor(0.)\n",
      "tensor(0.)\n",
      "tensor(0.)\n",
      "tensor(0.)\n",
      "tensor(0.)\n",
      "tensor(0.)\n",
      "tensor(0.)\n",
      "tensor(0.)\n",
      "tensor(0.)\n",
      "tensor(0.)\n",
      "tensor(0.)\n",
      "tensor(0.)\n",
      "tensor(0.)\n",
      "tensor(0.)\n",
      "tensor(0.)\n",
      "tensor(0.)\n",
      "tensor(0.)\n",
      "tensor(0.)\n",
      "tensor(0.)\n",
      "tensor(0.)\n",
      "tensor(0.)\n",
      "tensor(3.3083e-08)\n",
      "tensor(2.3474e-08)\n",
      "tensor(8.3470e-08)\n",
      "tensor(0.)\n"
     ]
    }
   ],
   "source": [
    "obs = v_env.reset()\n",
    "obs = np.array(obs, dtype=np.float32)\n",
    "\n",
    "for l in labels:\n",
    "    diff = t.from_numpy (activation_diff(l, obs))\n",
    "    print (t.norm (diff)/(diff.numel()))\n"
   ]
  },
  {
   "attachments": {},
   "cell_type": "markdown",
   "metadata": {},
   "source": [
    "# Visualizing actual observation activations"
   ]
  },
  {
   "cell_type": "code",
   "execution_count": 119,
   "metadata": {},
   "outputs": [
    {
     "data": {
      "application/vnd.jupyter.widget-view+json": {
       "model_id": "9e87e2cdb15a4a7586caded2507b733c",
       "version_major": 2,
       "version_minor": 0
      },
      "text/plain": [
       "FigureWidget({\n",
       "    'data': [], 'layout': {'template': '...'}\n",
       "})"
      ]
     },
     "metadata": {},
     "output_type": "display_data"
    },
    {
     "data": {
      "application/vnd.jupyter.widget-view+json": {
       "model_id": "df5cb6865e9d445f84ddff1da77ec4e8",
       "version_major": 2,
       "version_minor": 0
      },
      "text/plain": [
       "interactive(children=(Dropdown(description='label', options=('embedder.block1.conv_in0', 'embedder.block1.conv…"
      ]
     },
     "metadata": {},
     "output_type": "display_data"
    },
    {
     "data": {
      "application/vnd.jupyter.widget-view+json": {
       "model_id": "6725bfd38eac42eaa847fb235568ced7",
       "version_major": 2,
       "version_minor": 0
      },
      "text/plain": [
       "HBox(children=(Text(value='', layout=Layout(width='150px'), placeholder='Custom filename'), Button(description…"
      ]
     },
     "metadata": {},
     "output_type": "display_data"
    },
    {
     "ename": "TraitError",
     "evalue": "The 'children' trait of a HBox instance contains an Instance of a TypedTuple which expected a Widget, not the NoneType None.",
     "output_type": "error",
     "traceback": [
      "\u001b[0;31m---------------------------------------------------------------------------\u001b[0m",
      "\u001b[0;31mTraitError\u001b[0m                                Traceback (most recent call last)",
      "Cell \u001b[0;32mIn[119], line 11\u001b[0m\n\u001b[1;32m      9\u001b[0m \u001b[39m# Show a maze editor side-by-side with the interactive plotter\u001b[39;00m\n\u001b[1;32m     10\u001b[0m editor \u001b[39m=\u001b[39m maze\u001b[39m.\u001b[39mvenv_editor(venv, check_on_dist\u001b[39m=\u001b[39m\u001b[39mFalse\u001b[39;00m)\n\u001b[0;32m---> 11\u001b[0m display(HBox([editor\u001b[39m.\u001b[39;49mchildren[\u001b[39m0\u001b[39;49m], make_interactive_plotter(plot_activations, activ_gen_cheese)]))\n\u001b[1;32m     12\u001b[0m \u001b[39m\"\"\" This throws the error\u001b[39;00m\n\u001b[1;32m     13\u001b[0m \u001b[39mThe 'children' trait of a HBox instance contains an Instance of a TypedTuple which expected a Widget, not the NoneType None. \"\"\"\u001b[39;00m\n",
      "File \u001b[0;32m~eale/miniconda3/envs/MATS/lib/python3.10/site-packages/ipywidgets/widgets/widget_box.py:64\u001b[0m, in \u001b[0;36mBox.__init__\u001b[0;34m(self, children, **kwargs)\u001b[0m\n\u001b[1;32m     62\u001b[0m \u001b[39mdef\u001b[39;00m \u001b[39m__init__\u001b[39m(\u001b[39mself\u001b[39m, children\u001b[39m=\u001b[39m(), \u001b[39m*\u001b[39m\u001b[39m*\u001b[39mkwargs):\n\u001b[1;32m     63\u001b[0m     kwargs[\u001b[39m'\u001b[39m\u001b[39mchildren\u001b[39m\u001b[39m'\u001b[39m] \u001b[39m=\u001b[39m children\n\u001b[0;32m---> 64\u001b[0m     \u001b[39msuper\u001b[39;49m(Box, \u001b[39mself\u001b[39;49m)\u001b[39m.\u001b[39;49m\u001b[39m__init__\u001b[39;49m(\u001b[39m*\u001b[39;49m\u001b[39m*\u001b[39;49mkwargs)\n\u001b[1;32m     65\u001b[0m     \u001b[39mself\u001b[39m\u001b[39m.\u001b[39mon_displayed(Box\u001b[39m.\u001b[39m_fire_children_displayed)\n",
      "File \u001b[0;32m~eale/miniconda3/envs/MATS/lib/python3.10/site-packages/ipywidgets/widgets/widget.py:477\u001b[0m, in \u001b[0;36mWidget.__init__\u001b[0;34m(self, **kwargs)\u001b[0m\n\u001b[1;32m    475\u001b[0m \u001b[39m\"\"\"Public constructor\"\"\"\u001b[39;00m\n\u001b[1;32m    476\u001b[0m \u001b[39mself\u001b[39m\u001b[39m.\u001b[39m_model_id \u001b[39m=\u001b[39m kwargs\u001b[39m.\u001b[39mpop(\u001b[39m'\u001b[39m\u001b[39mmodel_id\u001b[39m\u001b[39m'\u001b[39m, \u001b[39mNone\u001b[39;00m)\n\u001b[0;32m--> 477\u001b[0m \u001b[39msuper\u001b[39;49m(Widget, \u001b[39mself\u001b[39;49m)\u001b[39m.\u001b[39;49m\u001b[39m__init__\u001b[39;49m(\u001b[39m*\u001b[39;49m\u001b[39m*\u001b[39;49mkwargs)\n\u001b[1;32m    479\u001b[0m Widget\u001b[39m.\u001b[39m_call_widget_constructed(\u001b[39mself\u001b[39m)\n\u001b[1;32m    480\u001b[0m \u001b[39mself\u001b[39m\u001b[39m.\u001b[39mopen()\n",
      "File \u001b[0;32m~eale/miniconda3/envs/MATS/lib/python3.10/site-packages/traitlets/traitlets.py:1343\u001b[0m, in \u001b[0;36mHasTraits.__init__\u001b[0;34m(self, *args, **kwargs)\u001b[0m\n\u001b[1;32m   1341\u001b[0m \u001b[39mfor\u001b[39;00m key, value \u001b[39min\u001b[39;00m kwargs\u001b[39m.\u001b[39mitems():\n\u001b[1;32m   1342\u001b[0m     \u001b[39mif\u001b[39;00m \u001b[39mself\u001b[39m\u001b[39m.\u001b[39mhas_trait(key):\n\u001b[0;32m-> 1343\u001b[0m         \u001b[39msetattr\u001b[39;49m(\u001b[39mself\u001b[39;49m, key, value)\n\u001b[1;32m   1344\u001b[0m         changes[key] \u001b[39m=\u001b[39m Bunch(\n\u001b[1;32m   1345\u001b[0m             name\u001b[39m=\u001b[39mkey,\n\u001b[1;32m   1346\u001b[0m             old\u001b[39m=\u001b[39m\u001b[39mNone\u001b[39;00m,\n\u001b[0;32m   (...)\u001b[0m\n\u001b[1;32m   1349\u001b[0m             \u001b[39mtype\u001b[39m\u001b[39m=\u001b[39m\u001b[39m\"\u001b[39m\u001b[39mchange\u001b[39m\u001b[39m\"\u001b[39m,\n\u001b[1;32m   1350\u001b[0m         )\n\u001b[1;32m   1351\u001b[0m     \u001b[39melse\u001b[39;00m:\n\u001b[1;32m   1352\u001b[0m         \u001b[39m# passthrough args that don't set traits to super\u001b[39;00m\n",
      "File \u001b[0;32m~eale/miniconda3/envs/MATS/lib/python3.10/site-packages/traitlets/traitlets.py:729\u001b[0m, in \u001b[0;36mTraitType.__set__\u001b[0;34m(self, obj, value)\u001b[0m\n\u001b[1;32m    727\u001b[0m     \u001b[39mraise\u001b[39;00m TraitError(\u001b[39m'\u001b[39m\u001b[39mThe \u001b[39m\u001b[39m\"\u001b[39m\u001b[39m%s\u001b[39;00m\u001b[39m\"\u001b[39m\u001b[39m trait is read-only.\u001b[39m\u001b[39m'\u001b[39m \u001b[39m%\u001b[39m \u001b[39mself\u001b[39m\u001b[39m.\u001b[39mname)\n\u001b[1;32m    728\u001b[0m \u001b[39melse\u001b[39;00m:\n\u001b[0;32m--> 729\u001b[0m     \u001b[39mself\u001b[39;49m\u001b[39m.\u001b[39;49mset(obj, value)\n",
      "File \u001b[0;32m~eale/miniconda3/envs/MATS/lib/python3.10/site-packages/traitlets/traitlets.py:703\u001b[0m, in \u001b[0;36mTraitType.set\u001b[0;34m(self, obj, value)\u001b[0m\n\u001b[1;32m    702\u001b[0m \u001b[39mdef\u001b[39;00m \u001b[39mset\u001b[39m(\u001b[39mself\u001b[39m, obj, value):\n\u001b[0;32m--> 703\u001b[0m     new_value \u001b[39m=\u001b[39m \u001b[39mself\u001b[39;49m\u001b[39m.\u001b[39;49m_validate(obj, value)\n\u001b[1;32m    704\u001b[0m     \u001b[39mtry\u001b[39;00m:\n\u001b[1;32m    705\u001b[0m         old_value \u001b[39m=\u001b[39m obj\u001b[39m.\u001b[39m_trait_values[\u001b[39mself\u001b[39m\u001b[39m.\u001b[39mname]\n",
      "File \u001b[0;32m~eale/miniconda3/envs/MATS/lib/python3.10/site-packages/traitlets/traitlets.py:735\u001b[0m, in \u001b[0;36mTraitType._validate\u001b[0;34m(self, obj, value)\u001b[0m\n\u001b[1;32m    733\u001b[0m     \u001b[39mreturn\u001b[39;00m value\n\u001b[1;32m    734\u001b[0m \u001b[39mif\u001b[39;00m \u001b[39mhasattr\u001b[39m(\u001b[39mself\u001b[39m, \u001b[39m\"\u001b[39m\u001b[39mvalidate\u001b[39m\u001b[39m\"\u001b[39m):\n\u001b[0;32m--> 735\u001b[0m     value \u001b[39m=\u001b[39m \u001b[39mself\u001b[39;49m\u001b[39m.\u001b[39;49mvalidate(obj, value)\n\u001b[1;32m    736\u001b[0m \u001b[39mif\u001b[39;00m obj\u001b[39m.\u001b[39m_cross_validation_lock \u001b[39mis\u001b[39;00m \u001b[39mFalse\u001b[39;00m:\n\u001b[1;32m    737\u001b[0m     value \u001b[39m=\u001b[39m \u001b[39mself\u001b[39m\u001b[39m.\u001b[39m_cross_validate(obj, value)\n",
      "File \u001b[0;32m~eale/miniconda3/envs/MATS/lib/python3.10/site-packages/traitlets/traitlets.py:2856\u001b[0m, in \u001b[0;36mContainer.validate\u001b[0;34m(self, obj, value)\u001b[0m\n\u001b[1;32m   2853\u001b[0m \u001b[39mif\u001b[39;00m value \u001b[39mis\u001b[39;00m \u001b[39mNone\u001b[39;00m:\n\u001b[1;32m   2854\u001b[0m     \u001b[39mreturn\u001b[39;00m value\n\u001b[0;32m-> 2856\u001b[0m value \u001b[39m=\u001b[39m \u001b[39mself\u001b[39;49m\u001b[39m.\u001b[39;49mvalidate_elements(obj, value)\n\u001b[1;32m   2858\u001b[0m \u001b[39mreturn\u001b[39;00m value\n",
      "File \u001b[0;32m~eale/miniconda3/envs/MATS/lib/python3.10/site-packages/traitlets/traitlets.py:2868\u001b[0m, in \u001b[0;36mContainer.validate_elements\u001b[0;34m(self, obj, value)\u001b[0m\n\u001b[1;32m   2866\u001b[0m     v \u001b[39m=\u001b[39m \u001b[39mself\u001b[39m\u001b[39m.\u001b[39m_trait\u001b[39m.\u001b[39m_validate(obj, v)\n\u001b[1;32m   2867\u001b[0m \u001b[39mexcept\u001b[39;00m TraitError \u001b[39mas\u001b[39;00m error:\n\u001b[0;32m-> 2868\u001b[0m     \u001b[39mself\u001b[39;49m\u001b[39m.\u001b[39;49merror(obj, v, error)\n\u001b[1;32m   2869\u001b[0m \u001b[39melse\u001b[39;00m:\n\u001b[1;32m   2870\u001b[0m     validated\u001b[39m.\u001b[39mappend(v)\n",
      "File \u001b[0;32m~eale/miniconda3/envs/MATS/lib/python3.10/site-packages/traitlets/traitlets.py:820\u001b[0m, in \u001b[0;36mTraitType.error\u001b[0;34m(self, obj, value, error, info)\u001b[0m\n\u001b[1;32m    809\u001b[0m         \u001b[39melse\u001b[39;00m:\n\u001b[1;32m    810\u001b[0m             error\u001b[39m.\u001b[39margs \u001b[39m=\u001b[39m (\n\u001b[1;32m    811\u001b[0m                 \u001b[39m\"\u001b[39m\u001b[39mThe \u001b[39m\u001b[39m'\u001b[39m\u001b[39m%s\u001b[39;00m\u001b[39m'\u001b[39m\u001b[39m trait contains \u001b[39m\u001b[39m%s\u001b[39;00m\u001b[39m which \u001b[39m\u001b[39m\"\u001b[39m\n\u001b[1;32m    812\u001b[0m                 \u001b[39m\"\u001b[39m\u001b[39mexpected \u001b[39m\u001b[39m%s\u001b[39;00m\u001b[39m, not \u001b[39m\u001b[39m%s\u001b[39;00m\u001b[39m.\u001b[39m\u001b[39m\"\u001b[39m\n\u001b[0;32m   (...)\u001b[0m\n\u001b[1;32m    818\u001b[0m                 ),\n\u001b[1;32m    819\u001b[0m             )\n\u001b[0;32m--> 820\u001b[0m     \u001b[39mraise\u001b[39;00m error\n\u001b[1;32m    821\u001b[0m \u001b[39melse\u001b[39;00m:\n\u001b[1;32m    822\u001b[0m     \u001b[39m# this trait caused an error\u001b[39;00m\n\u001b[1;32m    823\u001b[0m     \u001b[39mif\u001b[39;00m \u001b[39mself\u001b[39m\u001b[39m.\u001b[39mname \u001b[39mis\u001b[39;00m \u001b[39mNone\u001b[39;00m:\n\u001b[1;32m    824\u001b[0m         \u001b[39m# this is not the root trait\u001b[39;00m\n",
      "File \u001b[0;32m~eale/miniconda3/envs/MATS/lib/python3.10/site-packages/traitlets/traitlets.py:2866\u001b[0m, in \u001b[0;36mContainer.validate_elements\u001b[0;34m(self, obj, value)\u001b[0m\n\u001b[1;32m   2864\u001b[0m \u001b[39mfor\u001b[39;00m v \u001b[39min\u001b[39;00m value:\n\u001b[1;32m   2865\u001b[0m     \u001b[39mtry\u001b[39;00m:\n\u001b[0;32m-> 2866\u001b[0m         v \u001b[39m=\u001b[39m \u001b[39mself\u001b[39;49m\u001b[39m.\u001b[39;49m_trait\u001b[39m.\u001b[39;49m_validate(obj, v)\n\u001b[1;32m   2867\u001b[0m     \u001b[39mexcept\u001b[39;00m TraitError \u001b[39mas\u001b[39;00m error:\n\u001b[1;32m   2868\u001b[0m         \u001b[39mself\u001b[39m\u001b[39m.\u001b[39merror(obj, v, error)\n",
      "File \u001b[0;32m~eale/miniconda3/envs/MATS/lib/python3.10/site-packages/traitlets/traitlets.py:735\u001b[0m, in \u001b[0;36mTraitType._validate\u001b[0;34m(self, obj, value)\u001b[0m\n\u001b[1;32m    733\u001b[0m     \u001b[39mreturn\u001b[39;00m value\n\u001b[1;32m    734\u001b[0m \u001b[39mif\u001b[39;00m \u001b[39mhasattr\u001b[39m(\u001b[39mself\u001b[39m, \u001b[39m\"\u001b[39m\u001b[39mvalidate\u001b[39m\u001b[39m\"\u001b[39m):\n\u001b[0;32m--> 735\u001b[0m     value \u001b[39m=\u001b[39m \u001b[39mself\u001b[39;49m\u001b[39m.\u001b[39;49mvalidate(obj, value)\n\u001b[1;32m    736\u001b[0m \u001b[39mif\u001b[39;00m obj\u001b[39m.\u001b[39m_cross_validation_lock \u001b[39mis\u001b[39;00m \u001b[39mFalse\u001b[39;00m:\n\u001b[1;32m    737\u001b[0m     value \u001b[39m=\u001b[39m \u001b[39mself\u001b[39m\u001b[39m.\u001b[39m_cross_validate(obj, value)\n",
      "File \u001b[0;32m~eale/miniconda3/envs/MATS/lib/python3.10/site-packages/traitlets/traitlets.py:2147\u001b[0m, in \u001b[0;36mInstance.validate\u001b[0;34m(self, obj, value)\u001b[0m\n\u001b[1;32m   2145\u001b[0m     \u001b[39mreturn\u001b[39;00m value\n\u001b[1;32m   2146\u001b[0m \u001b[39melse\u001b[39;00m:\n\u001b[0;32m-> 2147\u001b[0m     \u001b[39mself\u001b[39;49m\u001b[39m.\u001b[39;49merror(obj, value)\n",
      "File \u001b[0;32m~eale/miniconda3/envs/MATS/lib/python3.10/site-packages/traitlets/traitlets.py:825\u001b[0m, in \u001b[0;36mTraitType.error\u001b[0;34m(self, obj, value, error, info)\u001b[0m\n\u001b[1;32m    821\u001b[0m \u001b[39melse\u001b[39;00m:\n\u001b[1;32m    822\u001b[0m     \u001b[39m# this trait caused an error\u001b[39;00m\n\u001b[1;32m    823\u001b[0m     \u001b[39mif\u001b[39;00m \u001b[39mself\u001b[39m\u001b[39m.\u001b[39mname \u001b[39mis\u001b[39;00m \u001b[39mNone\u001b[39;00m:\n\u001b[1;32m    824\u001b[0m         \u001b[39m# this is not the root trait\u001b[39;00m\n\u001b[0;32m--> 825\u001b[0m         \u001b[39mraise\u001b[39;00m TraitError(value, info \u001b[39mor\u001b[39;00m \u001b[39mself\u001b[39m\u001b[39m.\u001b[39minfo(), \u001b[39mself\u001b[39m)\n\u001b[1;32m    826\u001b[0m     \u001b[39melse\u001b[39;00m:\n\u001b[1;32m    827\u001b[0m         \u001b[39m# this is the root trait\u001b[39;00m\n\u001b[1;32m    828\u001b[0m         \u001b[39mif\u001b[39;00m obj \u001b[39mis\u001b[39;00m \u001b[39mnot\u001b[39;00m \u001b[39mNone\u001b[39;00m:\n",
      "\u001b[0;31mTraitError\u001b[0m: The 'children' trait of a HBox instance contains an Instance of a TypedTuple which expected a Widget, not the NoneType None."
     ]
    }
   ],
   "source": [
    "venv = create_venv(num=1, start_level=0, num_levels=1)\n",
    "\n",
    "def activ_gen_cheese(label: str):\n",
    "    \"\"\" Generate an observation with cheese at the given location. \"\"\"\n",
    "    cheese_obs = venv.reset()\n",
    "    cheese_obs = np.array(cheese_obs, dtype=np.float32)\n",
    "    return get_activations(label, cheese_obs)[0,:,::-1,:] # Take the first and only batch element, and flip the image vertically so that the top is at the top\n",
    "\n",
    "# Show a maze editor side-by-side with the interactive plotter\n",
    "editor = maze.venv_editor(venv, check_on_dist=False)\n",
    "display(HBox([editor.children[0], make_interactive_plotter(plot_activations, activ_gen_cheese)]))\n",
    "\"\"\" This throws the error\n",
    "The 'children' trait of a HBox instance contains an Instance of a TypedTuple which expected a Widget, not the NoneType None. \"\"\"\n",
    "# This is because the editor is not a widget, but a VBox"
   ]
  }
 ],
 "metadata": {
  "kernelspec": {
   "display_name": "MATS",
   "language": "python",
   "name": "python3"
  },
  "language_info": {
   "codemirror_mode": {
    "name": "ipython",
    "version": 3
   },
   "file_extension": ".py",
   "mimetype": "text/x-python",
   "name": "python",
   "nbconvert_exporter": "python",
   "pygments_lexer": "ipython3",
   "version": "3.10.9"
  },
  "orig_nbformat": 4,
  "vscode": {
   "interpreter": {
    "hash": "cd3e04b79b22c2a61b6815ecea0d93d7d0a83bc295cb411e510169362b7f6e5c"
   }
  }
 },
 "nbformat": 4,
 "nbformat_minor": 2
}
