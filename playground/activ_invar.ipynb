{
 "cells": [
  {
   "cell_type": "code",
   "execution_count": 8,
   "metadata": {},
   "outputs": [
    {
     "name": "stdout",
     "output_type": "stream",
     "text": [
      "Already downloaded https://nerdsniper.net/mats/model_rand_region_5.pth\n"
     ]
    }
   ],
   "source": [
    "import procgen_tools\n",
    "from procgen_tools.utils import setup\n",
    "import torch\n",
    "import tqdm\n",
    "\n",
    "setup()  # create directory structure and download data\n",
    "\n",
    "from procgen_tools.imports import *\n",
    "from procgen_tools import (\n",
    "    visualization,\n",
    "    patch_utils,\n",
    "    maze,\n",
    "    vfield,\n",
    "    vfield_stats,\n",
    "    metrics,\n",
    ")\n",
    "import matplotlib.pyplot as plt"
   ]
  },
  {
   "cell_type": "code",
   "execution_count": 2,
   "metadata": {},
   "outputs": [
    {
     "name": "stderr",
     "output_type": "stream",
     "text": [
      "Failed to detect the name of this notebook, you can set it manually with the WANDB_NOTEBOOK_NAME environment variable to enable code saving.\n",
      "\u001b[34m\u001b[1mwandb\u001b[0m: Currently logged in as: \u001b[33mturn-trout\u001b[0m. Use \u001b[1m`wandb login --relogin`\u001b[0m to force relogin\n"
     ]
    },
    {
     "data": {
      "text/html": [
       "Tracking run with wandb version 0.15.11"
      ],
      "text/plain": [
       "<IPython.core.display.HTML object>"
      ]
     },
     "metadata": {},
     "output_type": "display_data"
    },
    {
     "data": {
      "text/html": [
       "Run data is saved locally in <code>/home/turn/Documents/Work/MATS/23-Winter/procgen-tools/wandb/run-20231003_180332-1y5uagls</code>"
      ],
      "text/plain": [
       "<IPython.core.display.HTML object>"
      ]
     },
     "metadata": {},
     "output_type": "display_data"
    },
    {
     "data": {
      "text/html": [
       "Syncing run <strong><a href='https://wandb.ai/turn-trout/procgen-tools/runs/1y5uagls' target=\"_blank\">trim-field-3</a></strong> to <a href='https://wandb.ai/turn-trout/procgen-tools' target=\"_blank\">Weights & Biases</a> (<a href='https://wandb.me/run' target=\"_blank\">docs</a>)<br/>"
      ],
      "text/plain": [
       "<IPython.core.display.HTML object>"
      ]
     },
     "metadata": {},
     "output_type": "display_data"
    },
    {
     "data": {
      "text/html": [
       " View project at <a href='https://wandb.ai/turn-trout/procgen-tools' target=\"_blank\">https://wandb.ai/turn-trout/procgen-tools</a>"
      ],
      "text/plain": [
       "<IPython.core.display.HTML object>"
      ]
     },
     "metadata": {},
     "output_type": "display_data"
    },
    {
     "data": {
      "text/html": [
       " View run at <a href='https://wandb.ai/turn-trout/procgen-tools/runs/1y5uagls' target=\"_blank\">https://wandb.ai/turn-trout/procgen-tools/runs/1y5uagls</a>"
      ],
      "text/plain": [
       "<IPython.core.display.HTML object>"
      ]
     },
     "metadata": {},
     "output_type": "display_data"
    },
    {
     "data": {
      "text/html": [
       "<button onClick=\"this.nextSibling.style.display='block';this.style.display='none';\">Display W&B run</button><iframe src='https://wandb.ai/turn-trout/procgen-tools/runs/1y5uagls?jupyter=true' style='border:none;width:100%;height:420px;display:none;'></iframe>"
      ],
      "text/plain": [
       "<wandb.sdk.wandb_run.Run at 0x7fa5bac88bb0>"
      ]
     },
     "execution_count": 2,
     "metadata": {},
     "output_type": "execute_result"
    }
   ],
   "source": [
    "# Start a wandb run\n",
    "import wandb\n",
    "\n",
    "# wandb.init()"
   ]
  },
  {
   "cell_type": "code",
   "execution_count": 3,
   "metadata": {},
   "outputs": [],
   "source": [
    "def get_activ(venv, layer_name: str = default_layer) -> torch.Tensor:\n",
    "    obs = t.tensor(venv.reset(), dtype=t.float32, requires_grad=True)\n",
    "    with hook.set_hook_should_get_custom_data():\n",
    "        hook.network(obs)\n",
    "        activ = hook.get_value_by_label(layer_name, convert=False)\n",
    "    return activ  # shape: (batch_size, channels, height, width)"
   ]
  },
  {
   "cell_type": "code",
   "execution_count": 33,
   "metadata": {},
   "outputs": [],
   "source": [
    "# Load the model\n",
    "policy, hook = load_model(\n",
    "    rand_region=RAND_REGION, num_actions=NUM_ACTIONS, use_small=False\n",
    ")"
   ]
  },
  {
   "cell_type": "code",
   "execution_count": 34,
   "metadata": {},
   "outputs": [
    {
     "name": "stderr",
     "output_type": "stream",
     "text": [
      " 20%|██        | 1/5 [00:00<00:02,  1.49it/s]"
     ]
    },
    {
     "name": "stdout",
     "output_type": "stream",
     "text": [
      "Cheese diff: 2.388932228088379\n"
     ]
    },
    {
     "name": "stderr",
     "output_type": "stream",
     "text": [
      " 40%|████      | 2/5 [00:01<00:01,  1.66it/s]"
     ]
    },
    {
     "name": "stdout",
     "output_type": "stream",
     "text": [
      "Cheese diff: 3.2682642936706543\n"
     ]
    },
    {
     "name": "stderr",
     "output_type": "stream",
     "text": [
      " 60%|██████    | 3/5 [00:01<00:01,  1.61it/s]"
     ]
    },
    {
     "name": "stdout",
     "output_type": "stream",
     "text": [
      "Cheese diff: 4.049895763397217\n"
     ]
    },
    {
     "name": "stderr",
     "output_type": "stream",
     "text": [
      " 80%|████████  | 4/5 [00:02<00:00,  1.37it/s]"
     ]
    },
    {
     "name": "stdout",
     "output_type": "stream",
     "text": [
      "Cheese diff: 3.920301675796509\n"
     ]
    },
    {
     "name": "stderr",
     "output_type": "stream",
     "text": [
      "100%|██████████| 5/5 [00:03<00:00,  1.48it/s]"
     ]
    },
    {
     "name": "stdout",
     "output_type": "stream",
     "text": [
      "Cheese diff: 3.6196577548980713\n"
     ]
    },
    {
     "name": "stderr",
     "output_type": "stream",
     "text": [
      "\n"
     ]
    }
   ],
   "source": [
    "# Start an optimizer\n",
    "optim = torch.optim.Adam(hook.network.parameters(), lr=1e-3)\n",
    "\n",
    "# L2 loss between two vectors\n",
    "loss_fn = torch.nn.MSELoss()\n",
    "\n",
    "# Load the data\n",
    "epochs: int = 5\n",
    "seeds = range(5)\n",
    "# Original activation on maze without cheese\n",
    "original_nc_activ: List[torch.Tensor] = []\n",
    "for seed in seeds:\n",
    "    # Load the data\n",
    "    no_cheese_pair = maze.get_cheese_venv_pair(seed=seed)\n",
    "\n",
    "    # Train the policy\n",
    "    # Get activations using forward hook at default_layer\n",
    "    _, nc = get_activ(no_cheese_pair)\n",
    "    original_nc_activ.append(nc.detach())\n",
    "\n",
    "for epoch in tqdm(range(epochs)):\n",
    "    optim.zero_grad()\n",
    "    for seed in seeds:\n",
    "        # Load the data\n",
    "        cheese_pair = maze.get_cheese_venv_pair(seed=seed)\n",
    "\n",
    "        # Train the policy\n",
    "        # Get activations using forward hook at default_layer\n",
    "        cheese_activ, no_cheese_activ = get_activ(cheese_pair)\n",
    "\n",
    "        # Optimize TODO stop from updating wrt no_cheese_activ (detach)\n",
    "        loss = 0.01 * loss_fn(\n",
    "            cheese_activ, no_cheese_activ\n",
    "        )  # no_cheese is the target\n",
    "        loss += loss_fn(no_cheese_activ, original_nc_activ[seed])\n",
    "        loss.backward()\n",
    "    optim.step()\n",
    "\n",
    "    # Check cheese values on seed 0\n",
    "    c_activ, nc_activ = patch_utils.cheese_diff_values(0, default_layer, hook)\n",
    "    norm_diff = np.linalg.norm(c_activ - nc_activ)\n",
    "    # Print magnitude of diff norm using numpy\n",
    "    print(f\"Cheese diff: {norm_diff.item()}\")\n",
    "\n",
    "    # Log the results\n",
    "    wandb.log(\n",
    "        {\n",
    "            \"loss\": loss.item(),\n",
    "            \"epoch\": epoch,\n",
    "            \"seed\": seed,\n",
    "            \"diff\": norm_diff.item(),\n",
    "        }\n",
    "    )"
   ]
  },
  {
   "cell_type": "code",
   "execution_count": 42,
   "metadata": {},
   "outputs": [
    {
     "data": {
      "application/vnd.jupyter.widget-view+json": {
       "model_id": "4c0d6a7aa21c47d0b6e3bf20a4c7bafe",
       "version_major": 2,
       "version_minor": 0
      },
      "text/plain": [
       "interactive(children=(IntSlider(value=0, description='seed'), Output()), _dom_classes=('widget-interact',))"
      ]
     },
     "metadata": {},
     "output_type": "display_data"
    }
   ],
   "source": [
    "# Visualize the new hooked policy\n",
    "AX_SIZE = 2\n",
    "\n",
    "\n",
    "@interact\n",
    "def compare_component_probabilities(\n",
    "    seed=IntSlider(min=0, max=100, step=1, value=0)\n",
    "):\n",
    "    # fig.set_title(f\"Seed {seed}\")\n",
    "    venv = maze.create_venv(num=1, start_level=seed, num_levels=1)\n",
    "\n",
    "    # Plot the original vector field\n",
    "    old_vf = vfield.vector_field(venv, policy=policy)\n",
    "    new_vf = vfield.vector_field(venv, policy=hook.network)\n",
    "    fig, axs, _ = visualization.plot_vfs(old_vf, new_vf)\n",
    "\n",
    "    axs[0].set_xlabel(\"Original\")\n",
    "    axs[1].set_xlabel(\"After activation invariance\")\n",
    "    axs[2].set_xlabel(\"Difference\")\n",
    "    plt.show()"
   ]
  }
 ],
 "metadata": {
  "kernelspec": {
   "display_name": "Python 3",
   "language": "python",
   "name": "python3"
  },
  "language_info": {
   "codemirror_mode": {
    "name": "ipython",
    "version": 3
   },
   "file_extension": ".py",
   "mimetype": "text/x-python",
   "name": "python",
   "nbconvert_exporter": "python",
   "pygments_lexer": "ipython3",
   "version": "3.10.9"
  },
  "orig_nbformat": 4
 },
 "nbformat": 4,
 "nbformat_minor": 2
}
