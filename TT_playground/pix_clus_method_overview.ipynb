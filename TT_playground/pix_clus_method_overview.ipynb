{
 "cells": [
  {
   "cell_type": "markdown",
   "id": "8fbbd483-233b-4e6f-9cae-ef5dc1f09e1b",
   "metadata": {},
   "source": [
    "# Imports"
   ]
  },
  {
   "cell_type": "markdown",
   "id": "ec2e9d3f-6e45-4a96-b524-038106490343",
   "metadata": {},
   "source": [
    "I'm setting matplotlib to draw nice js widgets, and setting my system to look at the 'procgen-tools' lib that I'm editing, rather than the system version."
   ]
  },
  {
   "cell_type": "code",
   "execution_count": 4,
   "id": "189ce80b-5a16-4c8e-8c7c-28254b7c16da",
   "metadata": {},
   "outputs": [],
   "source": [
    "%matplotlib widget"
   ]
  },
  {
   "cell_type": "code",
   "execution_count": 5,
   "id": "8f38dbe2-9399-426d-8864-20d12704c72f",
   "metadata": {},
   "outputs": [
    {
     "name": "stdout",
     "output_type": "stream",
     "text": [
      "The autoreload extension is already loaded. To reload it, use:\n",
      "  %reload_ext autoreload\n"
     ]
    }
   ],
   "source": [
    "# this allows editing of imported modules without restarting kernel\n",
    "%load_ext autoreload\n",
    "%autoreload 2"
   ]
  },
  {
   "cell_type": "code",
   "execution_count": 6,
   "id": "a0cd5e9e-577c-4923-8e52-8961267cb7a6",
   "metadata": {},
   "outputs": [],
   "source": [
    "import sys\n",
    "sys.path.insert(0,\"/home/trist/progging/MIRL/procgen-tools\")"
   ]
  },
  {
   "cell_type": "code",
   "execution_count": null,
   "id": "9315f25d-fa7c-4860-ba0d-4fd2f3723b3a",
   "metadata": {},
   "outputs": [],
   "source": [
    "import matplotlib.pyplot as plt"
   ]
  },
  {
   "cell_type": "code",
   "execution_count": null,
   "id": "2e9f2e1b-628c-461c-b2a5-e17df9409f7f",
   "metadata": {},
   "outputs": [],
   "source": [
    "from procgen_tools import maze"
   ]
  },
  {
   "cell_type": "code",
   "execution_count": 42,
   "id": "54b892cc-aa89-47ac-8613-afec4e0d2744",
   "metadata": {},
   "outputs": [],
   "source": [
    "from procgen_tools import models"
   ]
  },
  {
   "cell_type": "code",
   "execution_count": 16,
   "id": "4dd59b3c-703b-4cb1-aac7-17dea71021dc",
   "metadata": {},
   "outputs": [],
   "source": [
    "import torch as t"
   ]
  },
  {
   "cell_type": "code",
   "execution_count": 17,
   "id": "081ee9c1-73f3-4fea-9659-73bec3da0555",
   "metadata": {},
   "outputs": [],
   "source": [
    "import numpy as np"
   ]
  },
  {
   "cell_type": "code",
   "execution_count": 227,
   "id": "0f18e4e7-9eea-462f-ae9e-7dabb500a20b",
   "metadata": {},
   "outputs": [],
   "source": [
    "import os"
   ]
  },
  {
   "cell_type": "code",
   "execution_count": 239,
   "id": "4840e080-b2dc-4b43-a668-f37baf7fb19e",
   "metadata": {},
   "outputs": [],
   "source": [
    "from pyndsp import to_ndsp_file"
   ]
  },
  {
   "cell_type": "code",
   "execution_count": 272,
   "id": "089dcce7-f33b-4da3-910e-ed2cf04744a7",
   "metadata": {},
   "outputs": [],
   "source": [
    "from scipy.cluster import hierarchy"
   ]
  },
  {
   "cell_type": "markdown",
   "id": "b158ccf9-7646-4b72-81cd-b2b6cedd56d9",
   "metadata": {},
   "source": [
    "# Select Maze"
   ]
  },
  {
   "cell_type": "code",
   "execution_count": 8,
   "id": "c264c953-541c-4c29-acd4-23fe79502ae8",
   "metadata": {},
   "outputs": [
    {
     "name": "stdout",
     "output_type": "stream",
     "text": [
      "Help on function create_venv in module procgen_tools.maze:\n",
      "\n",
      "create_venv(num: int, start_level: int, num_levels: int, num_threads: int = 1)\n",
      "    Create a wrapped venv. See https://github.com/openai/procgen#environment-options for params\n",
      "    \n",
      "    num=1 - The number of parallel environments to create in the vectorized env.\n",
      "    \n",
      "    num_levels=0 - The number of unique levels that can be generated. Set to 0 to use unlimited levels.\n",
      "    \n",
      "    start_level=0 - The lowest seed that will be used to generated levels. 'start_level' and 'num_levels' fully specify the set of possible levels.\n",
      "\n"
     ]
    }
   ],
   "source": [
    "help(maze.create_venv)"
   ]
  },
  {
   "cell_type": "code",
   "execution_count": 9,
   "id": "aed8ade8-f710-476c-abb6-e0c054e7f653",
   "metadata": {},
   "outputs": [],
   "source": [
    "venv = maze.create_venv(1, num_levels=1, start_level=100)"
   ]
  },
  {
   "cell_type": "code",
   "execution_count": 10,
   "id": "dfee0be1-447d-4863-83ee-43bb13eb4d6f",
   "metadata": {},
   "outputs": [
    {
     "name": "stdout",
     "output_type": "stream",
     "text": [
      "Help on function venv_with_all_mouse_positions in module procgen_tools.maze:\n",
      "\n",
      "venv_with_all_mouse_positions(venv)\n",
      "    From a venv with a single env, create a new venv with one env for each legal mouse position.\n",
      "    \n",
      "    Returns venv_all, (legal_mouse_positions, inner_grid_without_mouse)\n",
      "    Typically you'd call this with `venv_all, _ = venv_with_all_mouse_positions(venv)`,\n",
      "    The extra return values are useful for conciseness sometimes.\n",
      "\n"
     ]
    }
   ],
   "source": [
    "help(maze.venv_with_all_mouse_positions)"
   ]
  },
  {
   "cell_type": "code",
   "execution_count": 11,
   "id": "598c24b7-d867-4c97-9f97-600e3f72f13d",
   "metadata": {},
   "outputs": [],
   "source": [
    "venv_all, (legal_mouse_positions, grid, ) = maze.venv_with_all_mouse_positions(venv)"
   ]
  },
  {
   "cell_type": "code",
   "execution_count": 32,
   "id": "9434f2e6-f04f-49af-ad68-8ce2b80e09cf",
   "metadata": {},
   "outputs": [],
   "source": [
    "all_mouse_pos = t.tensor(venv_all.reset(), dtype=t.float32)"
   ]
  },
  {
   "cell_type": "code",
   "execution_count": 40,
   "id": "5652e0af-c3b2-4d1a-be9d-03d5cda40f37",
   "metadata": {},
   "outputs": [],
   "source": [
    "# chosen because of the interesting position and shape of mouse\n",
    "myMaze = all_mouse_pos[91].numpy().transpose((1,2,0))"
   ]
  },
  {
   "cell_type": "code",
   "execution_count": 41,
   "id": "11fbcee6-d705-4a13-ad20-21c7ccb60826",
   "metadata": {},
   "outputs": [
    {
     "data": {
      "text/plain": [
       "<matplotlib.image.AxesImage at 0x768c321a9de0>"
      ]
     },
     "execution_count": 41,
     "metadata": {},
     "output_type": "execute_result"
    },
    {
     "data": {
      "application/vnd.jupyter.widget-view+json": {
       "model_id": "86100894ba7a4f258107addf55a2bab5",
       "version_major": 2,
       "version_minor": 0
      },
      "image/png": "[encoded data removed]",
      "text/html": [
       "\n",
       "            <div style=\"display: inline-block;\">\n",
       "                <div class=\"jupyter-widgets widget-label\" style=\"text-align: center;\">\n",
       "                    Figure\n",
       "                </div>\n",
       "                <img src='data:image/png;base64,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' width=640.0/>\n",
       "            </div>\n",
       "        "
      ],
      "text/plain": [
       "Canvas(toolbar=Toolbar(toolitems=[('Home', 'Reset original view', 'home', 'home'), ('Back', 'Back to previous …"
      ]
     },
     "metadata": {},
     "output_type": "display_data"
    }
   ],
   "source": [
    "fig,ax = plt.subplots()\n",
    "ax.imshow(myMaze)"
   ]
  },
  {
   "cell_type": "markdown",
   "id": "a8d2fd77-548b-40eb-9fa2-f692a39c5a5d",
   "metadata": {},
   "source": [
    "# Get the Policy Model & Activations"
   ]
  },
  {
   "cell_type": "markdown",
   "id": "87374302-9784-4d09-b6f6-03cf2b7bd26b",
   "metadata": {},
   "source": [
    "## Load Model"
   ]
  },
  {
   "cell_type": "code",
   "execution_count": 44,
   "id": "b147527a-dde0-4990-b1c3-ca2773ca2c7e",
   "metadata": {},
   "outputs": [],
   "source": [
    "myPolicy = models.load_policy('../trained_models/maze_I/model_rand_region_1.pth', 15, t.device('cpu'))"
   ]
  },
  {
   "cell_type": "markdown",
   "id": "086ab2ef-2a9b-4938-b595-8883b425cd86",
   "metadata": {},
   "source": [
    "## Attach Hooks"
   ]
  },
  {
   "cell_type": "code",
   "execution_count": 167,
   "id": "49b6c774-3904-446c-b904-7d25b1606b37",
   "metadata": {},
   "outputs": [],
   "source": [
    "activations = {}"
   ]
  },
  {
   "cell_type": "code",
   "execution_count": 142,
   "id": "0dd58ef2-8f7a-4f80-a164-298c035854d2",
   "metadata": {},
   "outputs": [],
   "source": [
    "def hook_fn(m, i, o):\n",
    "    activations[m] = o "
   ]
  },
  {
   "cell_type": "code",
   "execution_count": 216,
   "id": "e576c507-3eba-4b17-9f62-eac67078a80d",
   "metadata": {},
   "outputs": [],
   "source": [
    "def getHooked(mod):\n",
    "    if len(mod._modules):\n",
    "        submod = []\n",
    "        for m in mod._modules:\n",
    "            # apparently this can also be done with\n",
    "            # mod.named_children()\n",
    "            for k,v,h in getHooked(mod._modules[m]):\n",
    "                if k:\n",
    "                    submod+=((m+\".\"+k, v, h),)\n",
    "                else:\n",
    "                    submod+=((m, v, h),)\n",
    "        return( submod )\n",
    "    else:\n",
    "        h = mod.register_forward_hook(hook_fn)\n",
    "        return( ((\"\",mod,h),) )"
   ]
  },
  {
   "cell_type": "code",
   "execution_count": 171,
   "id": "498fd76b-85ac-4978-8128-1174d41bbd6f",
   "metadata": {
    "scrolled": true
   },
   "outputs": [],
   "source": [
    "hookedList = getHooked(myPolicy.embedder)"
   ]
  },
  {
   "cell_type": "code",
   "execution_count": 184,
   "id": "55e1e4da-3aad-442b-b595-93555dd48a9f",
   "metadata": {},
   "outputs": [
    {
     "data": {
      "text/plain": [
       "40"
      ]
     },
     "execution_count": 184,
     "metadata": {},
     "output_type": "execute_result"
    }
   ],
   "source": [
    "len(hookedList)"
   ]
  },
  {
   "cell_type": "markdown",
   "id": "e394eecb-d846-4c94-a5c8-21a2d0fae0f8",
   "metadata": {},
   "source": [
    "## Run with Hooks"
   ]
  },
  {
   "cell_type": "code",
   "execution_count": 172,
   "id": "d715365b-8957-464e-9225-92644432e8ba",
   "metadata": {},
   "outputs": [
    {
     "data": {
      "text/plain": [
       "{}"
      ]
     },
     "execution_count": 172,
     "metadata": {},
     "output_type": "execute_result"
    }
   ],
   "source": [
    "activations"
   ]
  },
  {
   "cell_type": "code",
   "execution_count": 173,
   "id": "d66e9ee3-6c80-45b8-83f1-3e27e2645ecc",
   "metadata": {},
   "outputs": [],
   "source": [
    "output = myPolicy(t.tensor(myMaze.transpose((2,0,1))).unsqueeze(0))"
   ]
  },
  {
   "cell_type": "markdown",
   "id": "88e456b8-d751-45bd-a6e8-83b0f33416bb",
   "metadata": {},
   "source": [
    "## Remove Hooks"
   ]
  },
  {
   "cell_type": "code",
   "execution_count": null,
   "id": "028aad1b-1ef8-4390-82e6-0891a281bf97",
   "metadata": {
    "scrolled": true
   },
   "outputs": [],
   "source": [
    "for name, layer, hook in hookedList:\n",
    "    hook.remove()"
   ]
  },
  {
   "cell_type": "markdown",
   "id": "e055c6db-de9c-40f4-b00f-b53296e774be",
   "metadata": {},
   "source": [
    "## Print Info on Activation"
   ]
  },
  {
   "cell_type": "code",
   "execution_count": 189,
   "id": "520bbc66-798f-4c82-b381-4e73c29d24cd",
   "metadata": {
    "scrolled": true
   },
   "outputs": [],
   "source": [
    "#for name, layer, hook in hookedList:\n",
    "#    print(name)\n",
    "#    print(\"-----------\")\n",
    "#    print(layer)\n",
    "#    print(\"-----------\")\n",
    "#    print(hook)\n",
    "#    print(\"=========================================\")"
   ]
  },
  {
   "cell_type": "code",
   "execution_count": 240,
   "id": "a6fd049e-b8b4-4922-b117-8081fe81f98f",
   "metadata": {
    "scrolled": true
   },
   "outputs": [
    {
     "name": "stdout",
     "output_type": "stream",
     "text": [
      "=======================================================\n",
      "=============     List of Activations     =============\n",
      "=======================================================\n",
      "   torch.Size([1, 64, 64, 64]) <-- block1.conv\n",
      "   torch.Size([1, 64, 32, 32]) <-- block1.maxpool\n",
      "   torch.Size([1, 64, 32, 32]) <-- block1.res1.relu1\n",
      "   torch.Size([1, 64, 32, 32]) <-- block1.res1.conv1\n",
      "   torch.Size([1, 64, 32, 32]) <-- block1.res1.relu2\n",
      "   torch.Size([1, 64, 32, 32]) <-- block1.res1.conv2\n",
      "   torch.Size([1, 64, 32, 32]) <-- block1.res1.resadd\n",
      "   torch.Size([1, 64, 32, 32]) <-- block1.res2.relu1\n",
      "   torch.Size([1, 64, 32, 32]) <-- block1.res2.conv1\n",
      "   torch.Size([1, 64, 32, 32]) <-- block1.res2.relu2\n",
      "   torch.Size([1, 64, 32, 32]) <-- block1.res2.conv2\n",
      "   torch.Size([1, 64, 32, 32]) <-- block1.res2.resadd\n",
      "  torch.Size([1, 128, 32, 32]) <-- block2.conv\n",
      "  torch.Size([1, 128, 16, 16]) <-- block2.maxpool\n",
      "  torch.Size([1, 128, 16, 16]) <-- block2.res1.relu1\n",
      "  torch.Size([1, 128, 16, 16]) <-- block2.res1.conv1\n",
      "  torch.Size([1, 128, 16, 16]) <-- block2.res1.relu2\n",
      "  torch.Size([1, 128, 16, 16]) <-- block2.res1.conv2\n",
      "  torch.Size([1, 128, 16, 16]) <-- block2.res1.resadd\n",
      "  torch.Size([1, 128, 16, 16]) <-- block2.res2.relu1\n",
      "  torch.Size([1, 128, 16, 16]) <-- block2.res2.conv1\n",
      "  torch.Size([1, 128, 16, 16]) <-- block2.res2.relu2\n",
      "  torch.Size([1, 128, 16, 16]) <-- block2.res2.conv2\n",
      "  torch.Size([1, 128, 16, 16]) <-- block2.res2.resadd\n",
      "  torch.Size([1, 128, 16, 16]) <-- block3.conv\n",
      "    torch.Size([1, 128, 8, 8]) <-- block3.maxpool\n",
      "    torch.Size([1, 128, 8, 8]) <-- block3.res1.relu1\n",
      "    torch.Size([1, 128, 8, 8]) <-- block3.res1.conv1\n",
      "    torch.Size([1, 128, 8, 8]) <-- block3.res1.relu2\n",
      "    torch.Size([1, 128, 8, 8]) <-- block3.res1.conv2\n",
      "    torch.Size([1, 128, 8, 8]) <-- block3.res1.resadd\n",
      "    torch.Size([1, 128, 8, 8]) <-- block3.res2.relu1\n",
      "    torch.Size([1, 128, 8, 8]) <-- block3.res2.conv1\n",
      "    torch.Size([1, 128, 8, 8]) <-- block3.res2.relu2\n",
      "    torch.Size([1, 128, 8, 8]) <-- block3.res2.conv2\n",
      "    torch.Size([1, 128, 8, 8]) <-- block3.res2.resadd\n",
      "    torch.Size([1, 128, 8, 8]) <-- relu3\n",
      "         torch.Size([1, 8192]) <-- flatten\n",
      "          torch.Size([1, 256]) <-- fc\n",
      "          torch.Size([1, 256]) <-- relufc\n"
     ]
    }
   ],
   "source": [
    "print(\"=\"*55+\"\\n\"+\"=\"*13+\" \"*5+\"List of Activations\"+\" \"*5+\"=\"*13+\"\\n\"+\"=\"*55)\n",
    "names_and_activations = []\n",
    "for (k,v),(n,l,h) in zip(activations.items(),hookedList):\n",
    "    print(f\"{str(v.shape).rjust(30)} <-- {n}\")\n",
    "    names_and_activations += ((n,v),)"
   ]
  },
  {
   "cell_type": "markdown",
   "id": "758e1cdf-3288-4cd0-a213-48718776bdb5",
   "metadata": {},
   "source": [
    "## Write Activations to Files"
   ]
  },
  {
   "cell_type": "code",
   "execution_count": 245,
   "id": "3f881e7e-ab98-482e-8a6c-1dd060bfc586",
   "metadata": {},
   "outputs": [],
   "source": [
    "import datetime"
   ]
  },
  {
   "cell_type": "code",
   "execution_count": 252,
   "id": "32777813-443b-4cbc-86a0-e8c6168a8270",
   "metadata": {},
   "outputs": [],
   "source": [
    "now = datetime.datetime.now()"
   ]
  },
  {
   "cell_type": "code",
   "execution_count": 258,
   "id": "2f035c19-efcd-4368-9afa-3f9e13abda3e",
   "metadata": {},
   "outputs": [],
   "source": [
    "dirname = \"activations_\"+now.isoformat()"
   ]
  },
  {
   "cell_type": "code",
   "execution_count": 291,
   "id": "519440a1-cf1f-4cdf-a2a1-2ef1ec8703d0",
   "metadata": {},
   "outputs": [
    {
     "ename": "FileExistsError",
     "evalue": "[Errno 17] File exists: 'activations_2024-07-30T01:05:48.898678'",
     "output_type": "error",
     "traceback": [
      "\u001b[0;31m---------------------------------------------------------------------------\u001b[0m",
      "\u001b[0;31mFileExistsError\u001b[0m                           Traceback (most recent call last)",
      "Cell \u001b[0;32mIn[291], line 1\u001b[0m\n\u001b[0;32m----> 1\u001b[0m \u001b[43mos\u001b[49m\u001b[38;5;241;43m.\u001b[39;49m\u001b[43mmkdir\u001b[49m\u001b[43m(\u001b[49m\u001b[43mdirname\u001b[49m\u001b[43m)\u001b[49m\n",
      "\u001b[0;31mFileExistsError\u001b[0m: [Errno 17] File exists: 'activations_2024-07-30T01:05:48.898678'"
     ]
    }
   ],
   "source": [
    "os.mkdir(dirname)"
   ]
  },
  {
   "cell_type": "code",
   "execution_count": 292,
   "id": "bc0b2571-a809-4551-97ab-d98c2f711427",
   "metadata": {},
   "outputs": [
    {
     "data": {
      "text/plain": [
       "True"
      ]
     },
     "execution_count": 292,
     "metadata": {},
     "output_type": "execute_result"
    }
   ],
   "source": [
    "os.path.exists(dirname)"
   ]
  },
  {
   "cell_type": "code",
   "execution_count": 268,
   "id": "7a2c22e5-f7e7-46d2-9bf7-bdc53a197b1e",
   "metadata": {},
   "outputs": [],
   "source": [
    "for name, activation in names_and_activations:\n",
    "    to_ndsp_file( activation,\n",
    "             labels = \"zeros\",\n",
    "             title = dirname+\"/\"+name,\n",
    "             dimAx = 1,\n",
    "             afAx = None)"
   ]
  },
  {
   "cell_type": "markdown",
   "id": "9f5c268c-e104-455b-9583-61191b9195ab",
   "metadata": {},
   "source": [
    "# Interpret Activations by Pixel \"Color\" Distribution"
   ]
  },
  {
   "cell_type": "markdown",
   "id": "847dee97-6d1b-4e24-a57b-6e4a5208170e",
   "metadata": {
    "scrolled": true
   },
   "source": [
    "## Initial Classification by Clustering"
   ]
  },
  {
   "cell_type": "markdown",
   "id": "9ae9c19e-fb73-4093-945e-ea04029e4200",
   "metadata": {},
   "source": [
    "### Reshape Activation to Pixels"
   ]
  },
  {
   "cell_type": "code",
   "execution_count": 282,
   "id": "02de9fec-fe3b-4286-a897-b5a9f866b98d",
   "metadata": {},
   "outputs": [],
   "source": [
    "layer_id = 0"
   ]
  },
  {
   "cell_type": "code",
   "execution_count": 283,
   "id": "aa4ba2bc-a342-4c93-81a1-dfccc9fe60c5",
   "metadata": {},
   "outputs": [
    {
     "name": "stdout",
     "output_type": "stream",
     "text": [
      "block1.conv\n"
     ]
    }
   ],
   "source": [
    "print(names_and_activations[layer_id][0])"
   ]
  },
  {
   "cell_type": "code",
   "execution_count": 284,
   "id": "80dfdcf2-b6f3-4a08-b43a-92c81c3c7bb0",
   "metadata": {},
   "outputs": [],
   "source": [
    "activation_img = names_and_activations[layer_id][1]"
   ]
  },
  {
   "cell_type": "code",
   "execution_count": 285,
   "id": "d5b05899-1ffc-4893-87b2-0d06bbc7f17d",
   "metadata": {},
   "outputs": [
    {
     "data": {
      "text/plain": [
       "torch.Size([1, 64, 64, 64])"
      ]
     },
     "execution_count": 285,
     "metadata": {},
     "output_type": "execute_result"
    }
   ],
   "source": [
    "activation_img.shape"
   ]
  },
  {
   "cell_type": "code",
   "execution_count": 286,
   "id": "56cd7bb0-9885-4385-a8dd-c691cdc6a4ab",
   "metadata": {},
   "outputs": [],
   "source": [
    "pixels = activation_img.reshape((64,-1))"
   ]
  },
  {
   "cell_type": "markdown",
   "id": "5e0bdaf9-999a-4041-be82-0cbfd117ea41",
   "metadata": {},
   "source": [
    "### Build Hierarchy with scipy"
   ]
  },
  {
   "cell_type": "code",
   "execution_count": 360,
   "id": "d0e9610d-2137-49c4-8e2d-d23cdd33c259",
   "metadata": {},
   "outputs": [],
   "source": [
    "pix_link = hierarchy.linkage(\n",
    "    pixels.detach().numpy().transpose([1,0]),\n",
    "    metric='euclidean',\n",
    "    method='single',\n",
    "    )"
   ]
  },
  {
   "cell_type": "code",
   "execution_count": 361,
   "id": "080d45c7-da2e-4c79-b7b4-b72b0b07e8a8",
   "metadata": {},
   "outputs": [],
   "source": [
    "#link_tree = hierarchy.to_tree(pix_link)"
   ]
  },
  {
   "cell_type": "markdown",
   "id": "14e23dc4-ffa1-434c-8ce4-1a530cf1c16e",
   "metadata": {},
   "source": [
    "### Dendrogram"
   ]
  },
  {
   "cell_type": "code",
   "execution_count": 362,
   "id": "a474feb7-d7db-4288-b36a-d672605dbbbd",
   "metadata": {},
   "outputs": [
    {
     "name": "stderr",
     "output_type": "stream",
     "text": [
      "/tmp/ipykernel_1661594/880322870.py:1: RuntimeWarning: More than 20 figures have been opened. Figures created through the pyplot interface (`matplotlib.pyplot.figure`) are retained until explicitly closed and may consume too much memory. (To control this warning, see the rcParam `figure.max_open_warning`). Consider using `matplotlib.pyplot.close()`.\n",
      "  fig, ax = plt.subplots()\n"
     ]
    },
    {
     "data": {
      "text/plain": [
       "(-0.02, 0.6)"
      ]
     },
     "execution_count": 362,
     "metadata": {},
     "output_type": "execute_result"
    },
    {
     "data": {
      "application/vnd.jupyter.widget-view+json": {
       "model_id": "c8ba3893ccf84dbaa56aa23c7b1b64a4",
       "version_major": 2,
       "version_minor": 0
      },
      "image/png": "[encoded data removed]",
      "text/html": [
       "\n",
       "            <div style=\"display: inline-block;\">\n",
       "                <div class=\"jupyter-widgets widget-label\" style=\"text-align: center;\">\n",
       "                    Figure\n",
       "                </div>\n",
       "                <img src='data:image/png;base64,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' width=640.0/>\n",
       "            </div>\n",
       "        "
      ],
      "text/plain": [
       "Canvas(toolbar=Toolbar(toolitems=[('Home', 'Reset original view', 'home', 'home'), ('Back', 'Back to previous …"
      ]
     },
     "metadata": {},
     "output_type": "display_data"
    }
   ],
   "source": [
    "fig, ax = plt.subplots()\n",
    "acf = ax.add_collection\n",
    "# dendrogram doesn't have linewidth setting\n",
    "# but it can be bodged on by hacking the axes\n",
    "def linmodacf(colec):\n",
    "    colec.set(linewidth=0.5,)\n",
    "    acf(colec)\n",
    "ax.add_collection = linmodacf\n",
    "\n",
    "ddg=hierarchy.dendrogram(pix_link,\n",
    "           count_sort='ascending',\n",
    "           no_labels=True,\n",
    "           ax=ax,\n",
    "           )\n",
    "ax.set_xlim([-1000,45000])\n",
    "ax.set_ylim([-0.02,0.6])"
   ]
  },
  {
   "cell_type": "markdown",
   "id": "ead98443-0fb7-4a92-ba06-9b34b39a0230",
   "metadata": {},
   "source": [
    "### Classify by Hierarchy"
   ]
  },
  {
   "cell_type": "code",
   "execution_count": 367,
   "id": "7eebef9c-2824-4dab-af25-52d0bdf68aee",
   "metadata": {},
   "outputs": [],
   "source": [
    "classif = hierarchy.fcluster(\n",
    "    pix_link,\n",
    "    0.2,\n",
    "    criterion='distance',\n",
    "    depth=2,\n",
    "    )"
   ]
  },
  {
   "cell_type": "code",
   "execution_count": 368,
   "id": "ffe6a37e-15f8-45eb-8abe-a432397f7d94",
   "metadata": {},
   "outputs": [
    {
     "data": {
      "text/plain": [
       "(1, 73)"
      ]
     },
     "execution_count": 368,
     "metadata": {},
     "output_type": "execute_result"
    }
   ],
   "source": [
    "classif.min(), classif.max()"
   ]
  },
  {
   "cell_type": "markdown",
   "id": "67a112c8-76d1-4ca6-b1ec-a1bf895b70c8",
   "metadata": {},
   "source": [
    "## Interactive Pixel Cluster Labeling"
   ]
  },
  {
   "cell_type": "code",
   "execution_count": 307,
   "id": "2a99e19e-9910-43eb-9a27-5532f98c3ef6",
   "metadata": {},
   "outputs": [
    {
     "data": {
      "text/plain": [
       "(4096,)"
      ]
     },
     "execution_count": 307,
     "metadata": {},
     "output_type": "execute_result"
    }
   ],
   "source": [
    "classif.shape"
   ]
  },
  {
   "cell_type": "code",
   "execution_count": null,
   "id": "5d307cba-81d3-4e8f-b887-626616bcf9d7",
   "metadata": {},
   "outputs": [],
   "source": []
  },
  {
   "cell_type": "code",
   "execution_count": 306,
   "id": "9754ba19-74ec-46b1-a747-41b629bab9e8",
   "metadata": {},
   "outputs": [],
   "source": [
    "from pixcluscol import InteractivePixCol"
   ]
  },
  {
   "cell_type": "code",
   "execution_count": 369,
   "id": "a482a7d2-64c5-4d15-b8f0-a6e8ff4dba9f",
   "metadata": {},
   "outputs": [],
   "source": [
    "pixCol = InteractivePixCol(  classif.reshape((64,64))  )"
   ]
  },
  {
   "cell_type": "code",
   "execution_count": 371,
   "id": "d5b5e785-6dfb-4766-a6f9-93c15d337eb6",
   "metadata": {},
   "outputs": [
    {
     "data": {
      "application/vnd.jupyter.widget-view+json": {
       "model_id": "469da7b2fc95443a94a7d01160340dae",
       "version_major": 2,
       "version_minor": 0
      },
      "image/png": "[encoded data removed]",
      "text/html": [
       "\n",
       "            <div style=\"display: inline-block;\">\n",
       "                <div class=\"jupyter-widgets widget-label\" style=\"text-align: center;\">\n",
       "                    Figure\n",
       "                </div>\n",
       "                <img src='data:image/png;base64,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' width=640.0/>\n",
       "            </div>\n",
       "        "
      ],
      "text/plain": [
       "Canvas(toolbar=Toolbar(toolitems=[('Home', 'Reset original view', 'home', 'home'), ('Back', 'Back to previous …"
      ]
     },
     "metadata": {},
     "output_type": "display_data"
    }
   ],
   "source": [
    "pixCol.drawPlot()"
   ]
  }
 ],
 "metadata": {
  "kernelspec": {
   "display_name": "Python 3 (ipykernel)",
   "language": "python",
   "name": "python3"
  },
  "language_info": {
   "codemirror_mode": {
    "name": "ipython",
    "version": 3
   },
   "file_extension": ".py",
   "mimetype": "text/x-python",
   "name": "python",
   "nbconvert_exporter": "python",
   "pygments_lexer": "ipython3",
   "version": "3.10.0"
  }
 },
 "nbformat": 4,
 "nbformat_minor": 5
}
